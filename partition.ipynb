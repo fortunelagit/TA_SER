{
 "cells": [
  {
   "cell_type": "code",
   "execution_count": 1,
   "metadata": {},
   "outputs": [
    {
     "data": {
      "text/plain": [
       "'3.10.13 | packaged by Anaconda, Inc. | (main, Sep 11 2023, 13:24:38) [MSC v.1916 64 bit (AMD64)]'"
      ]
     },
     "execution_count": 1,
     "metadata": {},
     "output_type": "execute_result"
    }
   ],
   "source": [
    "import sys\n",
    "sys.version"
   ]
  },
  {
   "cell_type": "code",
   "execution_count": 17,
   "metadata": {},
   "outputs": [
    {
     "name": "stdout",
     "output_type": "stream",
     "text": [
      "Emotion\n",
      "neutral     4705\n",
      "joy         1741\n",
      "surprise    1204\n",
      "anger       1108\n",
      "sadness      683\n",
      "disgust      270\n",
      "fear         268\n",
      "Name: count, dtype: int64\n"
     ]
    }
   ],
   "source": [
    "import pandas as pd\n",
    "\n",
    "data_types = {\"Dialogue_ID\": int, \"Utterance_ID\": int}\n",
    "\n",
    "# Load and preprocess the dataset\n",
    "dataset = pd.read_csv(\"./text_speech_index.csv\", delimiter=\";\")\n",
    "dataset = dataset.dropna(subset=['Dialogue_ID'])  # Remove rows with missing values in 'Column_Name'\n",
    "dataset['Dialogue_ID'] = dataset['Dialogue_ID'].astype(int)  # Convert the column to integer type\n",
    "\n",
    "dataset = dataset.dropna(subset=['Utterance_ID'])  # Remove rows with missing values in 'Column_Name'\n",
    "dataset['Utterance_ID'] = dataset['Utterance_ID'].astype(int)  # Convert the column to integer type\n",
    "# Convert the list into a DataFrame\n",
    "df = pd.DataFrame(dataset, columns=['Utterance','Emotion','Sentiment','Dialogue_ID','Utterance_ID'])\n",
    "\n",
    "# Replace NaN values in 'emotion_in_tweet_is_directed_at' column with a string\n",
    "replacement_string = \"None\"\n",
    "df['Emotion'].fillna(replacement_string, inplace=True)\n",
    "\n",
    "class_to_remove = 'None'\n",
    "\n",
    "# Remove rows where 'Class' column contains the class to remove\n",
    "df = df[df['Emotion'] != class_to_remove]\n",
    "#df = df[df['Emotion'] != \"neutral\"]\n",
    "\n",
    "class_counts = df['Emotion'].value_counts()\n",
    "#print(df)\n",
    "print(class_counts)\n"
   ]
  },
  {
   "cell_type": "code",
   "execution_count": 18,
   "metadata": {},
   "outputs": [
    {
     "name": "stdout",
     "output_type": "stream",
     "text": [
      "                                              Utterance   Emotion Sentiment  \\\n",
      "0     also I was the point person on my company’s tr...   neutral   neutral   \n",
      "1                      You must’ve had your hands full.   neutral   neutral   \n",
      "2                               That I did. That I did.   neutral   neutral   \n",
      "3         So let’s talk a little bit about your duties.   neutral   neutral   \n",
      "4                                My duties?  All right.  surprise  positive   \n",
      "...                                                 ...       ...       ...   \n",
      "9984                                         You or me?   neutral   neutral   \n",
      "9985  I got it. Uh, Joey, women don't have Adam's ap...   neutral   neutral   \n",
      "9986               You guys are messing with me, right?  surprise  positive   \n",
      "9987                                              Yeah.   neutral   neutral   \n",
      "9988  That was a good one. For a second there, I was...       joy  positive   \n",
      "\n",
      "      Dialogue_ID  Utterance_ID  \n",
      "0               0             0  \n",
      "1               0             1  \n",
      "2               0             2  \n",
      "3               0             3  \n",
      "4               0             4  \n",
      "...           ...           ...  \n",
      "9984         1038            13  \n",
      "9985         1038            14  \n",
      "9986         1038            15  \n",
      "9987         1038            16  \n",
      "9988         1038            17  \n",
      "\n",
      "[9979 rows x 5 columns]\n"
     ]
    }
   ],
   "source": [
    "print(dataset)"
   ]
  },
  {
   "cell_type": "code",
   "execution_count": 19,
   "metadata": {},
   "outputs": [],
   "source": [
    "def count_data(csv_file):\n",
    "    # Load and preprocess the dataset\n",
    "    dataset = pd.read_csv(csv_file, delimiter=\",\")\n",
    "    # Convert the list into a DataFrame\n",
    "    df = pd.DataFrame(dataset, columns=['Dialogue_ID','Utterance_ID','Utterance','Emotion'])\n",
    "    \n",
    "    class_counts = df['Emotion'].value_counts()\n",
    "    print(class_counts)\n"
   ]
  },
  {
   "cell_type": "code",
   "execution_count": 20,
   "metadata": {},
   "outputs": [
    {
     "name": "stdout",
     "output_type": "stream",
     "text": [
      "                                              Utterance   Emotion Sentiment  \\\n",
      "0     also I was the point person on my company’s tr...   neutral   neutral   \n",
      "1                      You must’ve had your hands full.   neutral   neutral   \n",
      "2                               That I did. That I did.   neutral   neutral   \n",
      "3         So let’s talk a little bit about your duties.   neutral   neutral   \n",
      "4                                My duties?  All right.  surprise  positive   \n",
      "...                                                 ...       ...       ...   \n",
      "9984                                         You or me?   neutral   neutral   \n",
      "9985  I got it. Uh, Joey, women don't have Adam's ap...   neutral   neutral   \n",
      "9986               You guys are messing with me, right?  surprise  positive   \n",
      "9987                                              Yeah.   neutral   neutral   \n",
      "9988  That was a good one. For a second there, I was...       joy  positive   \n",
      "\n",
      "      Dialogue_ID  Utterance_ID  \n",
      "0               0             0  \n",
      "1               0             1  \n",
      "2               0             2  \n",
      "3               0             3  \n",
      "4               0             4  \n",
      "...           ...           ...  \n",
      "9984         1038            13  \n",
      "9985         1038            14  \n",
      "9986         1038            15  \n",
      "9987         1038            16  \n",
      "9988         1038            17  \n",
      "\n",
      "[9979 rows x 5 columns]\n"
     ]
    }
   ],
   "source": [
    "print(dataset)"
   ]
  },
  {
   "cell_type": "code",
   "execution_count": 21,
   "metadata": {},
   "outputs": [],
   "source": [
    "from sklearn.model_selection import train_test_split\n",
    "\n",
    "# Load your CSV data into a DataFrame\n",
    "data = df[['Dialogue_ID','Utterance_ID','Utterance','Emotion']]\n",
    "\n",
    "# Define the percentages for train, validation, and test sets\n",
    "train_percentage = 0.7  # 70% for training\n",
    "validation_percentage = 0.2  # 20% for validation\n",
    "test_percentage = 0.1  # 10% for testing\n",
    "\n",
    "# Split the data into train, validation, and test sets\n",
    "train_data, temp_data = train_test_split(data, test_size=1 - train_percentage, random_state=42)\n",
    "validation_data, test_data = train_test_split(temp_data, test_size=test_percentage / (test_percentage + validation_percentage), random_state=42)\n",
    "\n",
    "# Save each partition to separate CSV files\n",
    "train_data.to_csv('train_data.csv', index=False)\n",
    "validation_data.to_csv('validation_data.csv', index=False)\n",
    "test_data.to_csv('test_data.csv', index=False)\n"
   ]
  },
  {
   "cell_type": "code",
   "execution_count": 22,
   "metadata": {},
   "outputs": [
    {
     "name": "stdout",
     "output_type": "stream",
     "text": [
      "Emotion\n",
      "neutral     3286\n",
      "joy         1232\n",
      "surprise     830\n",
      "anger        779\n",
      "sadness      481\n",
      "fear         196\n",
      "disgust      181\n",
      "Name: count, dtype: int64\n"
     ]
    }
   ],
   "source": [
    "count_data('./train_data.csv')"
   ]
  },
  {
   "cell_type": "code",
   "execution_count": 23,
   "metadata": {},
   "outputs": [
    {
     "name": "stdout",
     "output_type": "stream",
     "text": [
      "Emotion\n",
      "neutral     940\n",
      "joy         343\n",
      "surprise    241\n",
      "anger       215\n",
      "sadness     140\n",
      "disgust      63\n",
      "fear         54\n",
      "Name: count, dtype: int64\n"
     ]
    }
   ],
   "source": [
    "count_data('./validation_data.csv')"
   ]
  },
  {
   "cell_type": "code",
   "execution_count": 24,
   "metadata": {},
   "outputs": [
    {
     "name": "stdout",
     "output_type": "stream",
     "text": [
      "Emotion\n",
      "neutral     479\n",
      "joy         166\n",
      "surprise    133\n",
      "anger       114\n",
      "sadness      62\n",
      "disgust      26\n",
      "fear         18\n",
      "Name: count, dtype: int64\n"
     ]
    }
   ],
   "source": [
    "count_data('./test_data.csv')"
   ]
  }
 ],
 "metadata": {
  "kernelspec": {
   "display_name": "Python 3",
   "language": "python",
   "name": "python3"
  },
  "language_info": {
   "codemirror_mode": {
    "name": "ipython",
    "version": 3
   },
   "file_extension": ".py",
   "mimetype": "text/x-python",
   "name": "python",
   "nbconvert_exporter": "python",
   "pygments_lexer": "ipython3",
   "version": "3.10.13"
  }
 },
 "nbformat": 4,
 "nbformat_minor": 2
}
