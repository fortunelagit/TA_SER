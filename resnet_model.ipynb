{
 "cells": [
  {
   "cell_type": "code",
   "execution_count": 4,
   "metadata": {},
   "outputs": [],
   "source": [
    "import matplotlib.pyplot as plotter_lib\n",
    "import numpy as np\n",
    "import PIL as image_lib\n",
    "import tensorflow as tflow\n",
    "\n",
    "from tensorflow.keras.layers import Flatten\n",
    "from keras.layers.core import Dense\n",
    "from tensorflow.keras.models import Sequential\n",
    "from tensorflow.keras.optimizers import Adam\n",
    "\n",
    "from tensorflow.keras.optimizers import Adam, SGD\n",
    "from tensorflow.keras.preprocessing.image import ImageDataGenerator\n",
    "from tensorflow.keras.layers import Conv2D, MaxPooling2D, Flatten, Dense, Dropout\n",
    "from tensorflow.keras.models import Sequential\n",
    "from tensorflow.keras.callbacks import EarlyStopping, ModelCheckpoint"
   ]
  },
  {
   "cell_type": "code",
   "execution_count": 50,
   "metadata": {},
   "outputs": [],
   "source": [
    "img_height, img_width = 100, 100\n",
    "train_dir = \"./train_mfcc_all/train/\"\n",
    "valid_dir = \"./train_mfcc_all/validation/\"\n",
    "num_classes = 7\n",
    "batch_size = 32"
   ]
  },
  {
   "cell_type": "code",
   "execution_count": 51,
   "metadata": {},
   "outputs": [
    {
     "name": "stdout",
     "output_type": "stream",
     "text": [
      "Found 1497 images belonging to 7 classes.\n"
     ]
    }
   ],
   "source": [
    "train_datagen = ImageDataGenerator(rescale = 1/255.0,\n",
    "                                   zoom_range=0.4)\n",
    "\n",
    "train_generator = train_datagen.flow_from_directory(train_dir,\n",
    "                                                    batch_size=batch_size,\n",
    "                                                    class_mode='categorical',\n",
    "                                                    target_size=(img_height, img_width))"
   ]
  },
  {
   "cell_type": "code",
   "execution_count": 52,
   "metadata": {},
   "outputs": [
    {
     "name": "stdout",
     "output_type": "stream",
     "text": [
      "Found 1497 files belonging to 7 classes.\n"
     ]
    }
   ],
   "source": [
    "train_ds = tflow.keras.preprocessing.image_dataset_from_directory(train_dir,\n",
    "                                                                seed=123,\n",
    "                                                                label_mode='categorical',\n",
    "                                                                image_size=(img_height, img_width),\n",
    "                                                                batch_size=batch_size)"
   ]
  },
  {
   "cell_type": "code",
   "execution_count": 54,
   "metadata": {},
   "outputs": [
    {
     "name": "stdout",
     "output_type": "stream",
     "text": [
      "Found 191 files belonging to 7 classes.\n"
     ]
    }
   ],
   "source": [
    "validation_ds = tflow.keras.preprocessing.image_dataset_from_directory(valid_dir,\n",
    "                                                                seed=123,\n",
    "                                                                label_mode='categorical',\n",
    "                                                                image_size=(img_height, img_width),\n",
    "                                                                batch_size=batch_size)"
   ]
  },
  {
   "cell_type": "code",
   "execution_count": 55,
   "metadata": {},
   "outputs": [
    {
     "name": "stdout",
     "output_type": "stream",
     "text": [
      "Found 191 images belonging to 7 classes.\n"
     ]
    }
   ],
   "source": [
    "validation_datagen = ImageDataGenerator(rescale = 1/255.0)\n",
    "\n",
    "validation_generator = validation_datagen.flow_from_directory(valid_dir,\n",
    "                                                              batch_size=batch_size,\n",
    "                                                              class_mode='categorical',\n",
    "                                                              target_size=(img_height, img_width)\n",
    "                                                             )"
   ]
  },
  {
   "cell_type": "code",
   "execution_count": 56,
   "metadata": {},
   "outputs": [],
   "source": [
    "early_stops = EarlyStopping(monitor='val_loss', patience=5, verbose=1, mode='auto')\n",
    "\n",
    "best_model_file = './Resnet_aug_best_weights.h5'\n",
    "best_model = ModelCheckpoint(best_model_file, monitor='val_accuracy', verbose = 1, save_best_only = True)"
   ]
  },
  {
   "cell_type": "code",
   "execution_count": 60,
   "metadata": {},
   "outputs": [],
   "source": [
    "demo_resnet_model = Sequential()\n",
    "\n",
    "pretrained_model_for_demo= tflow.keras.applications.ResNet50(include_top=False,\n",
    "\n",
    "                   input_shape=(100,100,3),\n",
    "\n",
    "                   pooling='avg',classes=7,\n",
    "\n",
    "                   weights='imagenet')\n",
    "\n",
    "for each_layer in pretrained_model_for_demo.layers:\n",
    "\n",
    "        each_layer.trainable=False\n",
    "\n",
    "demo_resnet_model.add(pretrained_model_for_demo)\n",
    "\n",
    "#demo_resnet_model.add(Conv2D(128, (3, 3), activation='relu'))\n",
    "\n",
    "#demo_resnet_model.add(MaxPooling2D(3, 3))\n",
    "\n",
    "demo_resnet_model.add(Flatten())\n",
    "\n",
    "demo_resnet_model.add(Dense(256, activation='relu'))\n",
    "\n",
    "demo_resnet_model.add(Dense(512, activation='relu'))\n",
    "\n",
    "demo_resnet_model.add(Dense(7, activation='softmax'))"
   ]
  },
  {
   "cell_type": "code",
   "execution_count": 61,
   "metadata": {},
   "outputs": [],
   "source": [
    "optimizer = SGD(learning_rate=0.01, momentum=0.9)"
   ]
  },
  {
   "cell_type": "code",
   "execution_count": 63,
   "metadata": {},
   "outputs": [],
   "source": [
    "from tensorflow.keras.callbacks import ReduceLROnPlateau\n",
    "import numpy as np\n",
    "\n",
    "reduce_lr = ReduceLROnPlateau(monitor='val_loss', factor=np.sqrt(0.1), patience=5)"
   ]
  },
  {
   "cell_type": "code",
   "execution_count": 65,
   "metadata": {},
   "outputs": [
    {
     "name": "stdout",
     "output_type": "stream",
     "text": [
      "Epoch 1/50\n"
     ]
    },
    {
     "name": "stdout",
     "output_type": "stream",
     "text": [
      "47/47 [==============================] - ETA: 0s - loss: 1.9472 - accuracy: 0.1443\n",
      "Epoch 1: val_accuracy did not improve from 0.19372\n",
      "47/47 [==============================] - 49s 941ms/step - loss: 1.9472 - accuracy: 0.1443 - val_loss: 1.9461 - val_accuracy: 0.1414 - lr: 0.0100\n",
      "Epoch 2/50\n",
      "47/47 [==============================] - ETA: 0s - loss: 1.9471 - accuracy: 0.1363\n",
      "Epoch 2: val_accuracy did not improve from 0.19372\n",
      "47/47 [==============================] - 42s 894ms/step - loss: 1.9471 - accuracy: 0.1363 - val_loss: 1.9459 - val_accuracy: 0.1466 - lr: 0.0100\n",
      "Epoch 3/50\n",
      "47/47 [==============================] - ETA: 0s - loss: 1.9472 - accuracy: 0.1376\n",
      "Epoch 3: val_accuracy did not improve from 0.19372\n",
      "47/47 [==============================] - 42s 890ms/step - loss: 1.9472 - accuracy: 0.1376 - val_loss: 1.9461 - val_accuracy: 0.1414 - lr: 0.0100\n",
      "Epoch 4/50\n",
      "47/47 [==============================] - ETA: 0s - loss: 1.9466 - accuracy: 0.1336\n",
      "Epoch 4: val_accuracy did not improve from 0.19372\n",
      "47/47 [==============================] - 45s 945ms/step - loss: 1.9466 - accuracy: 0.1336 - val_loss: 1.9460 - val_accuracy: 0.1414 - lr: 0.0100\n",
      "Epoch 5/50\n",
      "47/47 [==============================] - ETA: 0s - loss: 1.9468 - accuracy: 0.1470\n",
      "Epoch 5: val_accuracy did not improve from 0.19372\n",
      "47/47 [==============================] - 42s 890ms/step - loss: 1.9468 - accuracy: 0.1470 - val_loss: 1.9460 - val_accuracy: 0.1414 - lr: 0.0100\n",
      "Epoch 6/50\n",
      "47/47 [==============================] - ETA: 0s - loss: 1.9469 - accuracy: 0.1409\n",
      "Epoch 6: val_accuracy did not improve from 0.19372\n",
      "47/47 [==============================] - 42s 888ms/step - loss: 1.9469 - accuracy: 0.1409 - val_loss: 1.9460 - val_accuracy: 0.1414 - lr: 0.0100\n",
      "Epoch 7/50\n",
      "47/47 [==============================] - ETA: 0s - loss: 1.9467 - accuracy: 0.1470\n",
      "Epoch 7: val_accuracy did not improve from 0.19372\n",
      "47/47 [==============================] - 42s 886ms/step - loss: 1.9467 - accuracy: 0.1470 - val_loss: 1.9461 - val_accuracy: 0.1414 - lr: 0.0100\n",
      "Epoch 8/50\n",
      "47/47 [==============================] - ETA: 0s - loss: 1.9460 - accuracy: 0.1416\n",
      "Epoch 8: val_accuracy did not improve from 0.19372\n",
      "47/47 [==============================] - 42s 887ms/step - loss: 1.9460 - accuracy: 0.1416 - val_loss: 1.9460 - val_accuracy: 0.1414 - lr: 0.0032\n",
      "Epoch 9/50\n",
      "47/47 [==============================] - ETA: 0s - loss: 1.9461 - accuracy: 0.1396\n",
      "Epoch 9: val_accuracy did not improve from 0.19372\n",
      "47/47 [==============================] - 43s 901ms/step - loss: 1.9461 - accuracy: 0.1396 - val_loss: 1.9460 - val_accuracy: 0.1414 - lr: 0.0032\n",
      "Epoch 10/50\n",
      "47/47 [==============================] - ETA: 0s - loss: 1.9462 - accuracy: 0.1470\n",
      "Epoch 10: val_accuracy did not improve from 0.19372\n",
      "47/47 [==============================] - 43s 908ms/step - loss: 1.9462 - accuracy: 0.1470 - val_loss: 1.9460 - val_accuracy: 0.1414 - lr: 0.0032\n",
      "Epoch 11/50\n",
      "47/47 [==============================] - ETA: 0s - loss: 1.9462 - accuracy: 0.1470\n",
      "Epoch 11: val_accuracy did not improve from 0.19372\n",
      "47/47 [==============================] - 42s 889ms/step - loss: 1.9462 - accuracy: 0.1470 - val_loss: 1.9461 - val_accuracy: 0.1414 - lr: 0.0032\n",
      "Epoch 12/50\n",
      "47/47 [==============================] - ETA: 0s - loss: 1.9463 - accuracy: 0.1470\n",
      "Epoch 12: val_accuracy did not improve from 0.19372\n",
      "47/47 [==============================] - 43s 896ms/step - loss: 1.9463 - accuracy: 0.1470 - val_loss: 1.9461 - val_accuracy: 0.1414 - lr: 0.0032\n",
      "Epoch 13/50\n",
      "47/47 [==============================] - ETA: 0s - loss: 1.9459 - accuracy: 0.1470\n",
      "Epoch 13: val_accuracy did not improve from 0.19372\n",
      "47/47 [==============================] - 43s 904ms/step - loss: 1.9459 - accuracy: 0.1470 - val_loss: 1.9460 - val_accuracy: 0.1414 - lr: 0.0010\n",
      "Epoch 14/50\n",
      "47/47 [==============================] - ETA: 0s - loss: 1.9459 - accuracy: 0.1470\n",
      "Epoch 14: val_accuracy did not improve from 0.19372\n",
      "47/47 [==============================] - 42s 887ms/step - loss: 1.9459 - accuracy: 0.1470 - val_loss: 1.9460 - val_accuracy: 0.1414 - lr: 0.0010\n",
      "Epoch 15/50\n",
      "47/47 [==============================] - ETA: 0s - loss: 1.9459 - accuracy: 0.1470\n",
      "Epoch 15: val_accuracy did not improve from 0.19372\n",
      "47/47 [==============================] - 42s 887ms/step - loss: 1.9459 - accuracy: 0.1470 - val_loss: 1.9460 - val_accuracy: 0.1414 - lr: 0.0010\n",
      "Epoch 16/50\n",
      "47/47 [==============================] - ETA: 0s - loss: 1.9458 - accuracy: 0.1470\n",
      "Epoch 16: val_accuracy did not improve from 0.19372\n",
      "47/47 [==============================] - 42s 892ms/step - loss: 1.9458 - accuracy: 0.1470 - val_loss: 1.9460 - val_accuracy: 0.1414 - lr: 0.0010\n",
      "Epoch 17/50\n",
      "47/47 [==============================] - ETA: 0s - loss: 1.9459 - accuracy: 0.1470\n",
      "Epoch 17: val_accuracy did not improve from 0.19372\n",
      "47/47 [==============================] - 42s 886ms/step - loss: 1.9459 - accuracy: 0.1470 - val_loss: 1.9460 - val_accuracy: 0.1414 - lr: 0.0010\n",
      "Epoch 18/50\n",
      "47/47 [==============================] - ETA: 0s - loss: 1.9458 - accuracy: 0.1470\n",
      "Epoch 18: val_accuracy did not improve from 0.19372\n",
      "47/47 [==============================] - 43s 897ms/step - loss: 1.9458 - accuracy: 0.1470 - val_loss: 1.9460 - val_accuracy: 0.1414 - lr: 3.1623e-04\n",
      "Epoch 19/50\n",
      "47/47 [==============================] - ETA: 0s - loss: 1.9458 - accuracy: 0.1470\n",
      "Epoch 19: val_accuracy did not improve from 0.19372\n",
      "47/47 [==============================] - 42s 882ms/step - loss: 1.9458 - accuracy: 0.1470 - val_loss: 1.9460 - val_accuracy: 0.1414 - lr: 3.1623e-04\n",
      "Epoch 20/50\n",
      "47/47 [==============================] - ETA: 0s - loss: 1.9458 - accuracy: 0.1470\n",
      "Epoch 20: val_accuracy did not improve from 0.19372\n",
      "47/47 [==============================] - 42s 888ms/step - loss: 1.9458 - accuracy: 0.1470 - val_loss: 1.9460 - val_accuracy: 0.1414 - lr: 3.1623e-04\n",
      "Epoch 21/50\n",
      "47/47 [==============================] - ETA: 0s - loss: 1.9458 - accuracy: 0.1470\n",
      "Epoch 21: val_accuracy did not improve from 0.19372\n",
      "47/47 [==============================] - 42s 884ms/step - loss: 1.9458 - accuracy: 0.1470 - val_loss: 1.9460 - val_accuracy: 0.1414 - lr: 3.1623e-04\n",
      "Epoch 22/50\n",
      "47/47 [==============================] - ETA: 0s - loss: 1.9458 - accuracy: 0.1470\n",
      "Epoch 22: val_accuracy did not improve from 0.19372\n",
      "47/47 [==============================] - 42s 892ms/step - loss: 1.9458 - accuracy: 0.1470 - val_loss: 1.9460 - val_accuracy: 0.1414 - lr: 3.1623e-04\n",
      "Epoch 23/50\n",
      "47/47 [==============================] - ETA: 0s - loss: 1.9458 - accuracy: 0.1470\n",
      "Epoch 23: val_accuracy did not improve from 0.19372\n",
      "47/47 [==============================] - 42s 890ms/step - loss: 1.9458 - accuracy: 0.1470 - val_loss: 1.9460 - val_accuracy: 0.1414 - lr: 1.0000e-04\n",
      "Epoch 24/50\n",
      "47/47 [==============================] - ETA: 0s - loss: 1.9458 - accuracy: 0.1470\n",
      "Epoch 24: val_accuracy did not improve from 0.19372\n",
      "47/47 [==============================] - 42s 885ms/step - loss: 1.9458 - accuracy: 0.1470 - val_loss: 1.9460 - val_accuracy: 0.1414 - lr: 1.0000e-04\n",
      "Epoch 25/50\n",
      "47/47 [==============================] - ETA: 0s - loss: 1.9458 - accuracy: 0.1470\n",
      "Epoch 25: val_accuracy did not improve from 0.19372\n",
      "47/47 [==============================] - 42s 887ms/step - loss: 1.9458 - accuracy: 0.1470 - val_loss: 1.9460 - val_accuracy: 0.1414 - lr: 1.0000e-04\n",
      "Epoch 26/50\n",
      "47/47 [==============================] - ETA: 0s - loss: 1.9458 - accuracy: 0.1470\n",
      "Epoch 26: val_accuracy did not improve from 0.19372\n",
      "47/47 [==============================] - 42s 889ms/step - loss: 1.9458 - accuracy: 0.1470 - val_loss: 1.9460 - val_accuracy: 0.1414 - lr: 1.0000e-04\n",
      "Epoch 27/50\n",
      "47/47 [==============================] - ETA: 0s - loss: 1.9458 - accuracy: 0.1470\n",
      "Epoch 27: val_accuracy did not improve from 0.19372\n",
      "47/47 [==============================] - 42s 890ms/step - loss: 1.9458 - accuracy: 0.1470 - val_loss: 1.9460 - val_accuracy: 0.1414 - lr: 1.0000e-04\n",
      "Epoch 28/50\n",
      "47/47 [==============================] - ETA: 0s - loss: 1.9458 - accuracy: 0.1470\n",
      "Epoch 28: val_accuracy did not improve from 0.19372\n",
      "47/47 [==============================] - 42s 886ms/step - loss: 1.9458 - accuracy: 0.1470 - val_loss: 1.9460 - val_accuracy: 0.1414 - lr: 3.1623e-05\n",
      "Epoch 29/50\n",
      "47/47 [==============================] - ETA: 0s - loss: 1.9458 - accuracy: 0.1470\n",
      "Epoch 29: val_accuracy did not improve from 0.19372\n",
      "47/47 [==============================] - 42s 880ms/step - loss: 1.9458 - accuracy: 0.1470 - val_loss: 1.9460 - val_accuracy: 0.1414 - lr: 3.1623e-05\n",
      "Epoch 30/50\n",
      "47/47 [==============================] - ETA: 0s - loss: 1.9458 - accuracy: 0.1470\n",
      "Epoch 30: val_accuracy did not improve from 0.19372\n",
      "47/47 [==============================] - 42s 892ms/step - loss: 1.9458 - accuracy: 0.1470 - val_loss: 1.9460 - val_accuracy: 0.1414 - lr: 3.1623e-05\n",
      "Epoch 31/50\n",
      "47/47 [==============================] - ETA: 0s - loss: 1.9458 - accuracy: 0.1470\n",
      "Epoch 31: val_accuracy did not improve from 0.19372\n",
      "47/47 [==============================] - 42s 880ms/step - loss: 1.9458 - accuracy: 0.1470 - val_loss: 1.9460 - val_accuracy: 0.1414 - lr: 3.1623e-05\n",
      "Epoch 32/50\n",
      "47/47 [==============================] - ETA: 0s - loss: 1.9458 - accuracy: 0.1470\n",
      "Epoch 32: val_accuracy did not improve from 0.19372\n",
      "47/47 [==============================] - 42s 893ms/step - loss: 1.9458 - accuracy: 0.1470 - val_loss: 1.9460 - val_accuracy: 0.1414 - lr: 3.1623e-05\n",
      "Epoch 33/50\n",
      "47/47 [==============================] - ETA: 0s - loss: 1.9458 - accuracy: 0.1470\n",
      "Epoch 33: val_accuracy did not improve from 0.19372\n",
      "47/47 [==============================] - 42s 888ms/step - loss: 1.9458 - accuracy: 0.1470 - val_loss: 1.9460 - val_accuracy: 0.1414 - lr: 1.0000e-05\n",
      "Epoch 34/50\n",
      "47/47 [==============================] - ETA: 0s - loss: 1.9458 - accuracy: 0.1470\n",
      "Epoch 34: val_accuracy did not improve from 0.19372\n",
      "47/47 [==============================] - 42s 886ms/step - loss: 1.9458 - accuracy: 0.1470 - val_loss: 1.9460 - val_accuracy: 0.1414 - lr: 1.0000e-05\n",
      "Epoch 35/50\n",
      "47/47 [==============================] - ETA: 0s - loss: 1.9458 - accuracy: 0.1470\n",
      "Epoch 35: val_accuracy did not improve from 0.19372\n",
      "47/47 [==============================] - 42s 880ms/step - loss: 1.9458 - accuracy: 0.1470 - val_loss: 1.9460 - val_accuracy: 0.1414 - lr: 1.0000e-05\n",
      "Epoch 36/50\n",
      "47/47 [==============================] - ETA: 0s - loss: 1.9458 - accuracy: 0.1470\n",
      "Epoch 36: val_accuracy did not improve from 0.19372\n",
      "47/47 [==============================] - 42s 879ms/step - loss: 1.9458 - accuracy: 0.1470 - val_loss: 1.9460 - val_accuracy: 0.1414 - lr: 1.0000e-05\n",
      "Epoch 37/50\n",
      "47/47 [==============================] - ETA: 0s - loss: 1.9458 - accuracy: 0.1470\n",
      "Epoch 37: val_accuracy did not improve from 0.19372\n",
      "47/47 [==============================] - 42s 888ms/step - loss: 1.9458 - accuracy: 0.1470 - val_loss: 1.9460 - val_accuracy: 0.1414 - lr: 1.0000e-05\n",
      "Epoch 38/50\n",
      "47/47 [==============================] - ETA: 0s - loss: 1.9458 - accuracy: 0.1470\n",
      "Epoch 38: val_accuracy did not improve from 0.19372\n",
      "47/47 [==============================] - 43s 913ms/step - loss: 1.9458 - accuracy: 0.1470 - val_loss: 1.9460 - val_accuracy: 0.1414 - lr: 3.1623e-06\n",
      "Epoch 39/50\n",
      "47/47 [==============================] - ETA: 0s - loss: 1.9458 - accuracy: 0.1470\n",
      "Epoch 39: val_accuracy did not improve from 0.19372\n",
      "47/47 [==============================] - 43s 901ms/step - loss: 1.9458 - accuracy: 0.1470 - val_loss: 1.9460 - val_accuracy: 0.1414 - lr: 3.1623e-06\n",
      "Epoch 40/50\n",
      "47/47 [==============================] - ETA: 0s - loss: 1.9458 - accuracy: 0.1470\n",
      "Epoch 40: val_accuracy did not improve from 0.19372\n",
      "47/47 [==============================] - 43s 902ms/step - loss: 1.9458 - accuracy: 0.1470 - val_loss: 1.9460 - val_accuracy: 0.1414 - lr: 3.1623e-06\n",
      "Epoch 41/50\n",
      "47/47 [==============================] - ETA: 0s - loss: 1.9458 - accuracy: 0.1470\n",
      "Epoch 41: val_accuracy did not improve from 0.19372\n",
      "47/47 [==============================] - 43s 900ms/step - loss: 1.9458 - accuracy: 0.1470 - val_loss: 1.9460 - val_accuracy: 0.1414 - lr: 3.1623e-06\n",
      "Epoch 42/50\n",
      "47/47 [==============================] - ETA: 0s - loss: 1.9458 - accuracy: 0.1470\n",
      "Epoch 42: val_accuracy did not improve from 0.19372\n",
      "47/47 [==============================] - 42s 880ms/step - loss: 1.9458 - accuracy: 0.1470 - val_loss: 1.9460 - val_accuracy: 0.1414 - lr: 3.1623e-06\n",
      "Epoch 43/50\n",
      "47/47 [==============================] - ETA: 0s - loss: 1.9458 - accuracy: 0.1470\n",
      "Epoch 43: val_accuracy did not improve from 0.19372\n",
      "47/47 [==============================] - 42s 887ms/step - loss: 1.9458 - accuracy: 0.1470 - val_loss: 1.9460 - val_accuracy: 0.1414 - lr: 1.0000e-06\n",
      "Epoch 44/50\n",
      "47/47 [==============================] - ETA: 0s - loss: 1.9458 - accuracy: 0.1470\n",
      "Epoch 44: val_accuracy did not improve from 0.19372\n",
      "47/47 [==============================] - 42s 882ms/step - loss: 1.9458 - accuracy: 0.1470 - val_loss: 1.9460 - val_accuracy: 0.1414 - lr: 1.0000e-06\n",
      "Epoch 45/50\n",
      "47/47 [==============================] - ETA: 0s - loss: 1.9458 - accuracy: 0.1470\n",
      "Epoch 45: val_accuracy did not improve from 0.19372\n",
      "47/47 [==============================] - 42s 883ms/step - loss: 1.9458 - accuracy: 0.1470 - val_loss: 1.9460 - val_accuracy: 0.1414 - lr: 1.0000e-06\n",
      "Epoch 46/50\n",
      "47/47 [==============================] - ETA: 0s - loss: 1.9458 - accuracy: 0.1470\n",
      "Epoch 46: val_accuracy did not improve from 0.19372\n",
      "47/47 [==============================] - 42s 887ms/step - loss: 1.9458 - accuracy: 0.1470 - val_loss: 1.9460 - val_accuracy: 0.1414 - lr: 1.0000e-06\n",
      "Epoch 47/50\n",
      "47/47 [==============================] - ETA: 0s - loss: 1.9458 - accuracy: 0.1470\n",
      "Epoch 47: val_accuracy did not improve from 0.19372\n",
      "47/47 [==============================] - 42s 888ms/step - loss: 1.9458 - accuracy: 0.1470 - val_loss: 1.9460 - val_accuracy: 0.1414 - lr: 1.0000e-06\n",
      "Epoch 48/50\n",
      "47/47 [==============================] - ETA: 0s - loss: 1.9458 - accuracy: 0.1470\n",
      "Epoch 48: val_accuracy did not improve from 0.19372\n",
      "47/47 [==============================] - 42s 887ms/step - loss: 1.9458 - accuracy: 0.1470 - val_loss: 1.9460 - val_accuracy: 0.1414 - lr: 3.1623e-07\n",
      "Epoch 49/50\n",
      "47/47 [==============================] - ETA: 0s - loss: 1.9458 - accuracy: 0.1470\n",
      "Epoch 49: val_accuracy did not improve from 0.19372\n",
      "47/47 [==============================] - 42s 884ms/step - loss: 1.9458 - accuracy: 0.1470 - val_loss: 1.9460 - val_accuracy: 0.1414 - lr: 3.1623e-07\n",
      "Epoch 50/50\n",
      "47/47 [==============================] - ETA: 0s - loss: 1.9458 - accuracy: 0.1470\n",
      "Epoch 50: val_accuracy did not improve from 0.19372\n",
      "47/47 [==============================] - 42s 882ms/step - loss: 1.9458 - accuracy: 0.1470 - val_loss: 1.9460 - val_accuracy: 0.1414 - lr: 3.1623e-07\n"
     ]
    }
   ],
   "source": [
    "demo_resnet_model.compile(optimizer=optimizer,loss='categorical_crossentropy',metrics=['accuracy'])\n",
    "\n",
    "history = demo_resnet_model.fit(train_ds, validation_data=validation_ds, epochs=50,\n",
    "                              verbose=1,\n",
    "                              callbacks = [best_model, reduce_lr])"
   ]
  },
  {
   "cell_type": "code",
   "execution_count": 67,
   "metadata": {},
   "outputs": [
    {
     "data": {
      "image/png": "[encoded data removed]",
      "text/plain": [
       "<Figure size 1400x700 with 1 Axes>"
      ]
     },
     "metadata": {},
     "output_type": "display_data"
    }
   ],
   "source": [
    "from matplotlib import pyplot as plt\n",
    "\n",
    "acc=history.history['accuracy']\n",
    "val_acc=history.history['val_accuracy']\n",
    "loss=history.history['loss']\n",
    "val_loss=history.history['val_loss']\n",
    "\n",
    "epochs=range(len(acc))\n",
    "\n",
    "fig = plt.figure(figsize=(14,7))\n",
    "plt.plot(epochs, acc, 'r', label=\"Training Accuracy\")\n",
    "plt.plot(epochs, val_acc, 'b', label=\"Validation Accuracy\")\n",
    "plt.xlabel('Epoch')\n",
    "plt.ylabel('Accuracy')\n",
    "plt.title('Training and validation accuracy')\n",
    "plt.legend(loc='lower right')\n",
    "plt.show()"
   ]
  }
 ],
 "metadata": {
  "kernelspec": {
   "display_name": "Python 3",
   "language": "python",
   "name": "python3"
  },
  "language_info": {
   "codemirror_mode": {
    "name": "ipython",
    "version": 3
   },
   "file_extension": ".py",
   "mimetype": "text/x-python",
   "name": "python",
   "nbconvert_exporter": "python",
   "pygments_lexer": "ipython3",
   "version": "3.9.0"
  },
  "orig_nbformat": 4
 },
 "nbformat": 4,
 "nbformat_minor": 2
}
